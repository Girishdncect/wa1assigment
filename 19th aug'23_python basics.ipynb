{
 "cells": [
  {
   "cell_type": "markdown",
   "id": "ec64036c-aa75-4443-9646-f116dde00f4c",
   "metadata": {},
   "source": [
    "TOPIC: Python Basics Variable"
   ]
  },
  {
   "cell_type": "markdown",
   "id": "81128b71-3607-453a-8f08-6b635d075038",
   "metadata": {},
   "source": [
    "1. Declare two variables, `x` and `y`, and assign them integer values. Swap the\n",
    "values of these variables without using any temporary variable."
   ]
  },
  {
   "cell_type": "code",
   "execution_count": 2,
   "id": "5c23cbcd-eb7a-48e4-a32c-14e88e115d55",
   "metadata": {},
   "outputs": [
    {
     "name": "stdout",
     "output_type": "stream",
     "text": [
      "1000 2000\n",
      "2000 1000\n"
     ]
    }
   ],
   "source": [
    "#cinside the two variables x, and y and assigning the values to the variable\n",
    "x,y=1000,2000\n",
    "#we are printing the values of x and y\n",
    "print(x,y)\n",
    "#swaping of variables as x,y=y,x\n",
    "x,y=y,x\n",
    "print(x,y)"
   ]
  },
  {
   "cell_type": "markdown",
   "id": "3e9c6783-cc70-4057-bda4-238b0f0d3f84",
   "metadata": {},
   "source": [
    "2. Create a program that calculates the area of a rectangle. Take the length and\n",
    "width as inputs from the user and store them in variables. Calculate and\n",
    "display the area."
   ]
  },
  {
   "cell_type": "code",
   "execution_count": 3,
   "id": "b7f3cc8e-b1f0-4f72-9564-6737392663a1",
   "metadata": {},
   "outputs": [
    {
     "name": "stdin",
     "output_type": "stream",
     "text": [
      "enter the value of length: 20\n",
      "enter the value of width: 40\n"
     ]
    },
    {
     "name": "stdout",
     "output_type": "stream",
     "text": [
      "calculate the value of area is: 800\n"
     ]
    }
   ],
   "source": [
    "#the input is taken from the use of length and width\n",
    "l=int(input(\"enter the value of length:\"))\n",
    "b=int(input(\"enter the value of width:\"))\n",
    "#the area of rectangle is give formula as: a=l*b\n",
    "area=l*b\n",
    "#finally we are writing the the statement to print the area of rectangle: \n",
    "print(\"calculate area of rectangle is:\",area)"
   ]
  },
  {
   "cell_type": "markdown",
   "id": "683dc2e6-a4f1-4094-9c44-5f9af267db4f",
   "metadata": {},
   "source": [
    "3. Write a Python program that converts temperatures from Celsius to\n",
    "Fahrenheit. Take the temperature in Celsius as input, store it in a variable,\n",
    "convert it to Fahrenheit, and display the result."
   ]
  },
  {
   "cell_type": "code",
   "execution_count": 7,
   "id": "88f8da9f-d799-423a-92c6-365f72f3fdc7",
   "metadata": {},
   "outputs": [
    {
     "name": "stdin",
     "output_type": "stream",
     "text": [
      "enter the temperature in celsius: 45\n"
     ]
    },
    {
     "name": "stdout",
     "output_type": "stream",
     "text": [
      "tempracher in fahrenheit: 57.0\n"
     ]
    }
   ],
   "source": [
    "c=int(input(\"enter the temperature in celsius:\")) #taking the inpuse from user(it is user defined fun)\n",
    "f=(c*5/9)+32 #formula to convet celsius to fahrenheit\n",
    "print(\"tempracher in fahrenheit:\",f)"
   ]
  },
  {
   "cell_type": "markdown",
   "id": "89c88252-1683-41d2-be6b-a19c2f58bc12",
   "metadata": {},
   "source": [
    "TOPIC: String Based Questions"
   ]
  },
  {
   "cell_type": "markdown",
   "id": "a46ed104-3aa0-44b6-a886-2a8fd907047e",
   "metadata": {},
   "source": [
    "1.Write a Python program that takes a string as input and prints the length of\n",
    "the string."
   ]
  },
  {
   "cell_type": "code",
   "execution_count": 14,
   "id": "505eb52b-1ec1-453f-896c-935dc3fee3ac",
   "metadata": {},
   "outputs": [
    {
     "name": "stdin",
     "output_type": "stream",
     "text": [
      "enter the string: karnataka\n"
     ]
    },
    {
     "name": "stdout",
     "output_type": "stream",
     "text": [
      "length of string is: 9\n"
     ]
    }
   ],
   "source": [
    " #taking input from the user\n",
    "s=str(input(\"enter the string:\")) #the string is stored in 's' variable\n",
    "p=len(s) #length string (len(string))\n",
    "print(\"length of string is:\",p)"
   ]
  },
  {
   "cell_type": "code",
   "execution_count": 10,
   "id": "2e3c8826-9535-4fe0-8f28-d51841063411",
   "metadata": {},
   "outputs": [
    {
     "name": "stdin",
     "output_type": "stream",
     "text": [
      "enter the string: ABCDEFGH\n"
     ]
    },
    {
     "name": "stdout",
     "output_type": "stream",
     "text": [
      "HGFEDCBA\n"
     ]
    }
   ],
   "source": [
    "s=(input(\"enter the string:\")) #user input\n",
    "print(s[::-1]) #1 :=starting point of string #2 :=ending point #3. -1 reversing the string "
   ]
  },
  {
   "cell_type": "markdown",
   "id": "483ce92c-3605-4d2d-bdf9-2ea0583f8222",
   "metadata": {},
   "source": [
    "4. Write a program that takes a string as input and checks if it is a\n",
    "palindrome (reads the same forwards and backwards)."
   ]
  },
  {
   "cell_type": "code",
   "execution_count": 12,
   "id": "bb24496c-8be0-4ba4-a0ba-73431b639487",
   "metadata": {},
   "outputs": [
    {
     "name": "stdin",
     "output_type": "stream",
     "text": [
      "enter the string: mom\n"
     ]
    },
    {
     "name": "stdout",
     "output_type": "stream",
     "text": [
      "yes its a palindrom\n"
     ]
    }
   ],
   "source": [
    "s=input(\"enter the string:\")\n",
    "if s==s[::-1]:\n",
    "    print(\"yes its a palindrom\")\n",
    "else:\n",
    "    print(\"no its not palindrom\")"
   ]
  },
  {
   "cell_type": "markdown",
   "id": "1da9c161-b8de-4270-bdc6-920470594424",
   "metadata": {},
   "source": [
    "4.Create a program that takes a sentence from the user and counts the\n",
    "number of vowels (a, e, i, o, u) in the string"
   ]
  },
  {
   "cell_type": "code",
   "execution_count": null,
   "id": "da707527-1a99-4312-8299-6c9c66024542",
   "metadata": {},
   "outputs": [],
   "source": []
  }
 ],
 "metadata": {
  "kernelspec": {
   "display_name": "Python 3 (ipykernel)",
   "language": "python",
   "name": "python3"
  },
  "language_info": {
   "codemirror_mode": {
    "name": "ipython",
    "version": 3
   },
   "file_extension": ".py",
   "mimetype": "text/x-python",
   "name": "python",
   "nbconvert_exporter": "python",
   "pygments_lexer": "ipython3",
   "version": "3.10.8"
  }
 },
 "nbformat": 4,
 "nbformat_minor": 5
}
